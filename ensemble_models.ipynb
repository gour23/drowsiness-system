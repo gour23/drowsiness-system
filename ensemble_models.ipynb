{
 "cells": [
  {
   "cell_type": "code",
   "execution_count": 1,
   "id": "711a5f92",
   "metadata": {},
   "outputs": [],
   "source": [
    "import os\n",
    "import cv2\n",
    "import matplotlib.pyplot as plt\n",
    "import tensorflow as tf\n",
    "from tensorflow import keras\n",
    "from keras import Sequential\n",
    "from keras.layers import Dense, Conv2D,MaxPooling2D,Flatten,Dropout,Input\n",
    "from keras.applications import InceptionV3\n",
    "from keras.models import Model\n",
    "from keras.optimizers import Adam\n",
    "from keras.preprocessing.image import ImageDataGenerator"
   ]
  },
  {
   "cell_type": "code",
   "execution_count": 2,
   "id": "8a41b860",
   "metadata": {},
   "outputs": [
    {
     "name": "stdout",
     "output_type": "stream",
     "text": [
      "Found 16442 images belonging to 2 classes.\n",
      "Found 4109 images belonging to 2 classes.\n"
     ]
    }
   ],
   "source": [
    "train_datagen = ImageDataGenerator(rescale=1./255,rotation_range=0.2,shear_range=0.2,zoom_range=0.2,width_shift_range=0.2,\n",
    "                               height_shift_range=0.2,validation_split=0.2)\n",
    "\n",
    "batch_size = 8\n",
    "\n",
    "train_data = train_datagen.flow_from_directory('drowsiness data/train',target_size=(80,80),batch_size=batch_size,\n",
    "                                               class_mode='binary',subset='training')\n",
    "\n",
    "validation_data = train_datagen.flow_from_directory('drowsiness data/train',target_size=(80,80),batch_size=batch_size,\n",
    "                                               class_mode='binary',subset='validation')"
   ]
  },
  {
   "cell_type": "code",
   "execution_count": 3,
   "id": "40b18ff7",
   "metadata": {},
   "outputs": [
    {
     "name": "stdout",
     "output_type": "stream",
     "text": [
      "Found 3129 images belonging to 2 classes.\n"
     ]
    }
   ],
   "source": [
    "test_datagen =ImageDataGenerator(rescale=1./255)\n",
    "test_data=test_datagen.flow_from_directory('drowsiness data/test',target_size=(80,80),batch_size=batch_size,\n",
    "                                               class_mode='binary',subset='training')"
   ]
  },
  {
   "cell_type": "code",
   "execution_count": 13,
   "id": "f052f741",
   "metadata": {},
   "outputs": [
    {
     "data": {
      "text/plain": [
       "(80, 80, 3)"
      ]
     },
     "execution_count": 13,
     "metadata": {},
     "output_type": "execute_result"
    }
   ],
   "source": [
    "train_data.image_shape"
   ]
  },
  {
   "cell_type": "code",
   "execution_count": 17,
   "id": "2f9690aa",
   "metadata": {},
   "outputs": [],
   "source": [
    "model1 = keras.models.load_model(\"retraining_with_inceptionv3.h5\")\n",
    "model2 = keras.models.load_model(\"vgg16.h5\")\n",
    "models=[model1,model2]\n",
    "model_input =keras.Input(shape=(80, 80, 3))\n",
    "model_outputs = [model(model_input) for model in models]\n",
    "# print(model_outputs)\n",
    "ensemble_output = tf.keras.layers.Average()(model_outputs)\n",
    "ensemble_model = tf.keras.Model(inputs=model_input, outputs=ensemble_output)"
   ]
  },
  {
   "cell_type": "code",
   "execution_count": 19,
   "id": "28de91db",
   "metadata": {},
   "outputs": [
    {
     "name": "stdout",
     "output_type": "stream",
     "text": [
      "392/392 [==============================] - 98s 250ms/step\n"
     ]
    }
   ],
   "source": [
    "p1=ensemble_model.predict(test_data)"
   ]
  },
  {
   "cell_type": "code",
   "execution_count": 20,
   "id": "7f65103c",
   "metadata": {},
   "outputs": [
    {
     "name": "stdout",
     "output_type": "stream",
     "text": [
      "392/392 [==============================] - 20s 48ms/step\n"
     ]
    }
   ],
   "source": [
    "p2 = model1.predict(test_data)"
   ]
  },
  {
   "cell_type": "code",
   "execution_count": 21,
   "id": "63904cb0",
   "metadata": {},
   "outputs": [
    {
     "name": "stdout",
     "output_type": "stream",
     "text": [
      "392/392 [==============================] - 87s 222ms/step\n"
     ]
    }
   ],
   "source": [
    "p3 = model2.predict(test_data)"
   ]
  },
  {
   "cell_type": "code",
   "execution_count": 22,
   "id": "b84b42e1",
   "metadata": {},
   "outputs": [
    {
     "name": "stdout",
     "output_type": "stream",
     "text": [
      "1197\n",
      "1932\n",
      "1213\n",
      "1916\n",
      "1079\n",
      "2050\n"
     ]
    }
   ],
   "source": [
    "# pred=model.predict(test_data)\n",
    "opn=[]\n",
    "closen= []\n",
    "opn2=[]\n",
    "closen2=[]\n",
    "opn3=[]\n",
    "closen3=[]\n",
    "for p in p1:\n",
    "    if p[0]>=0.5:\n",
    "        opn.append(1)\n",
    "    else:\n",
    "        closen.append(0)\n",
    "        \n",
    "for p in p2:\n",
    "    if p[0]>=0.5:\n",
    "        opn2.append(1)\n",
    "    else:\n",
    "        closen2.append(0)\n",
    "        \n",
    "for p in p3:\n",
    "    if p[0]>=0.5:\n",
    "        opn3.append(1)\n",
    "    else:\n",
    "        closen3.append(0)\n",
    "print(len(opn))\n",
    "print(len(closen))\n",
    "print(len(opn2))\n",
    "print(len(closen2))\n",
    "print(len(opn3))\n",
    "print(len(closen3))"
   ]
  },
  {
   "cell_type": "code",
   "execution_count": null,
   "id": "d6d1a453",
   "metadata": {},
   "outputs": [],
   "source": []
  },
  {
   "cell_type": "code",
   "execution_count": null,
   "id": "5ac46803",
   "metadata": {},
   "outputs": [],
   "source": []
  },
  {
   "cell_type": "code",
   "execution_count": null,
   "id": "f9ebd365",
   "metadata": {},
   "outputs": [],
   "source": [
    "def ensemble(models, model_input):\n",
    "    outputs = [model.outputs[0] for model in models]\n",
    "    y = layers.Average()(outputs)\n",
    "    model = Model(model_input, y, name='ensemble')\n",
    "    return model"
   ]
  },
  {
   "cell_type": "code",
   "execution_count": null,
   "id": "28f45728",
   "metadata": {},
   "outputs": [],
   "source": []
  },
  {
   "cell_type": "code",
   "execution_count": null,
   "id": "b8673db7",
   "metadata": {},
   "outputs": [],
   "source": []
  },
  {
   "cell_type": "code",
   "execution_count": null,
   "id": "aaf71a37",
   "metadata": {},
   "outputs": [],
   "source": [
    "ensemble_model = ensemble([denseNet_model, inception_model], model_input)"
   ]
  },
  {
   "cell_type": "code",
   "execution_count": null,
   "id": "8595377e",
   "metadata": {},
   "outputs": [],
   "source": [
    "ensemble_model.compile(loss='categorical_crossentropy',\n",
    "              optimizer=optimizer,\n",
    "              metrics=['accuracy'])"
   ]
  },
  {
   "cell_type": "code",
   "execution_count": null,
   "id": "1b50bd8e",
   "metadata": {},
   "outputs": [],
   "source": [
    "# models = [keras_model, keras_model2]\n",
    "# model_input = tf.keras.Input(shape=(125, 125, 3))\n",
    "# model_outputs = [model(model_input) for model in models]\n",
    "# ensemble_output = tf.keras.layers.Average()(model_outputs)\n",
    "# ensemble_model = tf.keras.Model(inputs=model_input, outputs=ensemble_output)"
   ]
  }
 ],
 "metadata": {
  "kernelspec": {
   "display_name": "Python 3 (ipykernel)",
   "language": "python",
   "name": "python3"
  },
  "language_info": {
   "codemirror_mode": {
    "name": "ipython",
    "version": 3
   },
   "file_extension": ".py",
   "mimetype": "text/x-python",
   "name": "python",
   "nbconvert_exporter": "python",
   "pygments_lexer": "ipython3",
   "version": "3.10.7"
  }
 },
 "nbformat": 4,
 "nbformat_minor": 5
}
