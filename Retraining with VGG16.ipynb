{
 "cells": [
  {
   "cell_type": "code",
   "execution_count": 2,
   "id": "3347cfdc",
   "metadata": {},
   "outputs": [],
   "source": [
    "import os\n",
    "import cv2\n",
    "import matplotlib.pyplot as plt\n",
    "import tensorflow as tf\n",
    "from tensorflow import keras\n",
    "from keras import Sequential\n",
    "from keras.layers import Dense, Conv2D,MaxPooling2D,Flatten,Dropout,Input\n",
    "from keras.applications import VGG16\n",
    "from keras.models import Model\n",
    "from keras.preprocessing.image import ImageDataGenerator"
   ]
  },
  {
   "cell_type": "code",
   "execution_count": 3,
   "id": "ed4bf0e0",
   "metadata": {},
   "outputs": [
    {
     "name": "stdout",
     "output_type": "stream",
     "text": [
      "Found 16442 images belonging to 2 classes.\n",
      "Found 4109 images belonging to 2 classes.\n"
     ]
    }
   ],
   "source": [
    "train_datagen = ImageDataGenerator(rescale=1./255,rotation_range=0.2,shear_range=0.2,zoom_range=0.2,width_shift_range=0.2,\n",
    "                               height_shift_range=0.2,validation_split=0.2)\n",
    "\n",
    "batch_size = 7\n",
    "\n",
    "train_genrator = train_datagen.flow_from_directory('drowsiness data/train',target_size=(80,80),batch_size=batch_size,\n",
    "                                               class_mode='binary',subset='training')\n",
    "\n",
    "validation_genrator = train_datagen.flow_from_directory('drowsiness data/train',target_size=(80,80),batch_size=batch_size,\n",
    "                                               class_mode='binary',subset='validation')"
   ]
  },
  {
   "cell_type": "code",
   "execution_count": 4,
   "id": "2cbafb33",
   "metadata": {},
   "outputs": [
    {
     "name": "stdout",
     "output_type": "stream",
     "text": [
      "Found 3129 images belonging to 2 classes.\n"
     ]
    }
   ],
   "source": [
    "test_datagen =ImageDataGenerator(rescale=1./255)\n",
    "test_genrator=test_datagen.flow_from_directory('drowsiness data/test',target_size=(80,80),batch_size=batch_size,\n",
    "                                               class_mode='binary',subset='training')"
   ]
  },
  {
   "cell_type": "code",
   "execution_count": 5,
   "id": "f64b6a33",
   "metadata": {},
   "outputs": [
    {
     "data": {
      "text/plain": [
       "{'Closed': 0, 'Opened': 1}"
      ]
     },
     "execution_count": 5,
     "metadata": {},
     "output_type": "execute_result"
    }
   ],
   "source": [
    "validation_genrator.class_indices"
   ]
  },
  {
   "cell_type": "code",
   "execution_count": 6,
   "id": "26d0d421",
   "metadata": {},
   "outputs": [],
   "source": [
    "conv_base = VGG16(\n",
    "weights='imagenet',\n",
    "include_top = False,\n",
    "input_shape=(80,80,3)\n",
    ")"
   ]
  },
  {
   "cell_type": "code",
   "execution_count": 7,
   "id": "2ca4dbc1",
   "metadata": {},
   "outputs": [
    {
     "name": "stdout",
     "output_type": "stream",
     "text": [
      "Model: \"vgg16\"\n",
      "_________________________________________________________________\n",
      " Layer (type)                Output Shape              Param #   \n",
      "=================================================================\n",
      " input_1 (InputLayer)        [(None, 80, 80, 3)]       0         \n",
      "                                                                 \n",
      " block1_conv1 (Conv2D)       (None, 80, 80, 64)        1792      \n",
      "                                                                 \n",
      " block1_conv2 (Conv2D)       (None, 80, 80, 64)        36928     \n",
      "                                                                 \n",
      " block1_pool (MaxPooling2D)  (None, 40, 40, 64)        0         \n",
      "                                                                 \n",
      " block2_conv1 (Conv2D)       (None, 40, 40, 128)       73856     \n",
      "                                                                 \n",
      " block2_conv2 (Conv2D)       (None, 40, 40, 128)       147584    \n",
      "                                                                 \n",
      " block2_pool (MaxPooling2D)  (None, 20, 20, 128)       0         \n",
      "                                                                 \n",
      " block3_conv1 (Conv2D)       (None, 20, 20, 256)       295168    \n",
      "                                                                 \n",
      " block3_conv2 (Conv2D)       (None, 20, 20, 256)       590080    \n",
      "                                                                 \n",
      " block3_conv3 (Conv2D)       (None, 20, 20, 256)       590080    \n",
      "                                                                 \n",
      " block3_pool (MaxPooling2D)  (None, 10, 10, 256)       0         \n",
      "                                                                 \n",
      " block4_conv1 (Conv2D)       (None, 10, 10, 512)       1180160   \n",
      "                                                                 \n",
      " block4_conv2 (Conv2D)       (None, 10, 10, 512)       2359808   \n",
      "                                                                 \n",
      " block4_conv3 (Conv2D)       (None, 10, 10, 512)       2359808   \n",
      "                                                                 \n",
      " block4_pool (MaxPooling2D)  (None, 5, 5, 512)         0         \n",
      "                                                                 \n",
      " block5_conv1 (Conv2D)       (None, 5, 5, 512)         2359808   \n",
      "                                                                 \n",
      " block5_conv2 (Conv2D)       (None, 5, 5, 512)         2359808   \n",
      "                                                                 \n",
      " block5_conv3 (Conv2D)       (None, 5, 5, 512)         2359808   \n",
      "                                                                 \n",
      " block5_pool (MaxPooling2D)  (None, 2, 2, 512)         0         \n",
      "                                                                 \n",
      "=================================================================\n",
      "Total params: 14,714,688\n",
      "Trainable params: 14,714,688\n",
      "Non-trainable params: 0\n",
      "_________________________________________________________________\n"
     ]
    }
   ],
   "source": [
    "conv_base.summary()"
   ]
  },
  {
   "cell_type": "code",
   "execution_count": 8,
   "id": "a52b2568",
   "metadata": {},
   "outputs": [],
   "source": [
    "model=Sequential()\n",
    "model.add(conv_base)\n",
    "model.add(Flatten())\n",
    "model.add(Dense(64,activation='relu'))\n",
    "model.add(Dropout(0.5))\n",
    "model.add(Dense(32,activation='relu'))\n",
    "model.add(Dropout(0.5))\n",
    "\n",
    "model.add(Dense(1,activation='sigmoid'))"
   ]
  },
  {
   "cell_type": "code",
   "execution_count": 9,
   "id": "fb4130e0",
   "metadata": {},
   "outputs": [
    {
     "name": "stdout",
     "output_type": "stream",
     "text": [
      "Model: \"sequential\"\n",
      "_________________________________________________________________\n",
      " Layer (type)                Output Shape              Param #   \n",
      "=================================================================\n",
      " vgg16 (Functional)          (None, 2, 2, 512)         14714688  \n",
      "                                                                 \n",
      " flatten (Flatten)           (None, 2048)              0         \n",
      "                                                                 \n",
      " dense (Dense)               (None, 64)                131136    \n",
      "                                                                 \n",
      " dropout (Dropout)           (None, 64)                0         \n",
      "                                                                 \n",
      " dense_1 (Dense)             (None, 32)                2080      \n",
      "                                                                 \n",
      " dropout_1 (Dropout)         (None, 32)                0         \n",
      "                                                                 \n",
      " dense_2 (Dense)             (None, 1)                 33        \n",
      "                                                                 \n",
      "=================================================================\n",
      "Total params: 14,847,937\n",
      "Trainable params: 14,847,937\n",
      "Non-trainable params: 0\n",
      "_________________________________________________________________\n"
     ]
    }
   ],
   "source": [
    "model.summary()"
   ]
  },
  {
   "cell_type": "code",
   "execution_count": 10,
   "id": "528576ab",
   "metadata": {},
   "outputs": [
    {
     "name": "stdout",
     "output_type": "stream",
     "text": [
      "Model: \"sequential\"\n",
      "_________________________________________________________________\n",
      " Layer (type)                Output Shape              Param #   \n",
      "=================================================================\n",
      " vgg16 (Functional)          (None, 2, 2, 512)         14714688  \n",
      "                                                                 \n",
      " flatten (Flatten)           (None, 2048)              0         \n",
      "                                                                 \n",
      " dense (Dense)               (None, 64)                131136    \n",
      "                                                                 \n",
      " dropout (Dropout)           (None, 64)                0         \n",
      "                                                                 \n",
      " dense_1 (Dense)             (None, 32)                2080      \n",
      "                                                                 \n",
      " dropout_1 (Dropout)         (None, 32)                0         \n",
      "                                                                 \n",
      " dense_2 (Dense)             (None, 1)                 33        \n",
      "                                                                 \n",
      "=================================================================\n",
      "Total params: 14,847,937\n",
      "Trainable params: 133,249\n",
      "Non-trainable params: 14,714,688\n",
      "_________________________________________________________________\n"
     ]
    }
   ],
   "source": [
    "conv_base.trainable=False\n",
    "model.summary()"
   ]
  },
  {
   "cell_type": "code",
   "execution_count": 11,
   "id": "697fac44",
   "metadata": {},
   "outputs": [
    {
     "name": "stdout",
     "output_type": "stream",
     "text": [
      "Model: \"sequential\"\n",
      "_________________________________________________________________\n",
      " Layer (type)                Output Shape              Param #   \n",
      "=================================================================\n",
      " vgg16 (Functional)          (None, 2, 2, 512)         14714688  \n",
      "                                                                 \n",
      " flatten (Flatten)           (None, 2048)              0         \n",
      "                                                                 \n",
      " dense (Dense)               (None, 64)                131136    \n",
      "                                                                 \n",
      " dropout (Dropout)           (None, 64)                0         \n",
      "                                                                 \n",
      " dense_1 (Dense)             (None, 32)                2080      \n",
      "                                                                 \n",
      " dropout_1 (Dropout)         (None, 32)                0         \n",
      "                                                                 \n",
      " dense_2 (Dense)             (None, 1)                 33        \n",
      "                                                                 \n",
      "=================================================================\n",
      "Total params: 14,847,937\n",
      "Trainable params: 133,249\n",
      "Non-trainable params: 14,714,688\n",
      "_________________________________________________________________\n"
     ]
    }
   ],
   "source": [
    "for layer in conv_base.layers:\n",
    "    layer.trainable = False\n",
    "    \n",
    "model.summary()"
   ]
  },
  {
   "cell_type": "code",
   "execution_count": 12,
   "id": "5deed7ab",
   "metadata": {},
   "outputs": [
    {
     "name": "stdout",
     "output_type": "stream",
     "text": [
      "Epoch 1/20\n",
      "2349/2349 [==============================] - 1077s 458ms/step - loss: 0.5074 - accuracy: 0.7360 - val_loss: 0.3861 - val_accuracy: 0.8177\n",
      "Epoch 2/20\n",
      "2349/2349 [==============================] - 1069s 455ms/step - loss: 0.3996 - accuracy: 0.8174 - val_loss: 0.4068 - val_accuracy: 0.8017\n",
      "Epoch 3/20\n",
      "2349/2349 [==============================] - 1072s 457ms/step - loss: 0.3749 - accuracy: 0.8341 - val_loss: 0.4080 - val_accuracy: 0.8167\n",
      "Epoch 4/20\n",
      "2349/2349 [==============================] - 1074s 457ms/step - loss: 0.3467 - accuracy: 0.8520 - val_loss: 0.4392 - val_accuracy: 0.7790\n",
      "Epoch 5/20\n",
      "2349/2349 [==============================] - 778s 331ms/step - loss: 0.3434 - accuracy: 0.8542 - val_loss: 0.4252 - val_accuracy: 0.8284\n",
      "Epoch 6/20\n",
      "2349/2349 [==============================] - 667s 284ms/step - loss: 0.3338 - accuracy: 0.8599 - val_loss: 0.4488 - val_accuracy: 0.8245\n",
      "Epoch 7/20\n",
      "2349/2349 [==============================] - 648s 276ms/step - loss: 0.3233 - accuracy: 0.8627 - val_loss: 0.4566 - val_accuracy: 0.7985\n",
      "Epoch 8/20\n",
      "2349/2349 [==============================] - 650s 277ms/step - loss: 0.3206 - accuracy: 0.8678 - val_loss: 0.4543 - val_accuracy: 0.8019\n",
      "Epoch 9/20\n",
      "2349/2349 [==============================] - 653s 278ms/step - loss: 0.3097 - accuracy: 0.8691 - val_loss: 0.4412 - val_accuracy: 0.8136\n",
      "Epoch 10/20\n",
      "2349/2349 [==============================] - 657s 280ms/step - loss: 0.3113 - accuracy: 0.8713 - val_loss: 0.4799 - val_accuracy: 0.7873\n",
      "Epoch 11/20\n",
      "2349/2349 [==============================] - 653s 278ms/step - loss: 0.3042 - accuracy: 0.8750 - val_loss: 0.4452 - val_accuracy: 0.8041\n",
      "Epoch 11: early stopping\n"
     ]
    }
   ],
   "source": [
    "from keras.callbacks import EarlyStopping\n",
    "earlystopping = EarlyStopping(monitor='val_loss',patience=10,verbose=1,restore_best_weights=False)\n",
    "\n",
    "model.compile(optimizer='adam',loss='binary_crossentropy',metrics=['accuracy'])\n",
    "history = model.fit(train_genrator,epochs=20,validation_data=validation_genrator,callbacks=earlystopping)"
   ]
  },
  {
   "cell_type": "code",
   "execution_count": 13,
   "id": "2769d882",
   "metadata": {},
   "outputs": [
    {
     "data": {
      "image/png": "[encoded data removed]",
      "text/plain": [
       "<Figure size 640x480 with 1 Axes>"
      ]
     },
     "metadata": {},
     "output_type": "display_data"
    }
   ],
   "source": [
    "plt.plot(history.history['accuracy'],color='red',label='train')\n",
    "plt.plot(history.history['val_accuracy'],color='blue',label='validation')\n",
    "plt.legend()\n",
    "plt.show()"
   ]
  },
  {
   "cell_type": "code",
   "execution_count": 14,
   "id": "9e26d674",
   "metadata": {},
   "outputs": [
    {
     "data": {
      "image/png": "[encoded data removed]",
      "text/plain": [
       "<Figure size 640x480 with 1 Axes>"
      ]
     },
     "metadata": {},
     "output_type": "display_data"
    }
   ],
   "source": [
    "plt.plot(history.history['loss'],color='red',label='train')\n",
    "plt.plot(history.history['val_loss'],color='blue',label='validation')\n",
    "plt.legend()\n",
    "plt.show()"
   ]
  },
  {
   "cell_type": "code",
   "execution_count": 15,
   "id": "f5d78a1f",
   "metadata": {},
   "outputs": [
    {
     "name": "stdout",
     "output_type": "stream",
     "text": [
      "447/447 [==============================] - 103s 220ms/step\n",
      "1079\n",
      "2050\n"
     ]
    }
   ],
   "source": [
    "pred=model.predict(test_genrator)\n",
    "opn=[]\n",
    "closen= []\n",
    "for p in pred:\n",
    "    if p[0]>=0.5:\n",
    "        opn.append(1)\n",
    "    else:\n",
    "        closen.append(0)\n",
    "        \n",
    "print(len(opn))\n",
    "print(len(closen))"
   ]
  },
  {
   "cell_type": "code",
   "execution_count": 20,
   "id": "971f6c13",
   "metadata": {},
   "outputs": [],
   "source": [
    "model.save('vgg16.h5')"
   ]
  },
  {
   "cell_type": "code",
   "execution_count": 17,
   "id": "829b514b",
   "metadata": {},
   "outputs": [
    {
     "name": "stdout",
     "output_type": "stream",
     "text": [
      "input_1\n",
      "block1_conv1\n",
      "block1_conv2\n",
      "block1_pool\n",
      "block2_conv1\n",
      "block2_conv2\n",
      "block2_pool\n",
      "block3_conv1\n",
      "block3_conv2\n",
      "block3_conv3\n",
      "block3_pool\n",
      "block4_conv1\n",
      "block4_conv2\n",
      "block4_conv3\n",
      "block4_pool\n",
      "block5_conv1\n",
      "block5_conv2\n",
      "block5_conv3\n",
      "block5_pool\n"
     ]
    }
   ],
   "source": [
    "for layer in conv_base.layers:\n",
    "    print(layer.name)"
   ]
  },
  {
   "cell_type": "code",
   "execution_count": null,
   "id": "41d30bad",
   "metadata": {},
   "outputs": [],
   "source": []
  }
 ],
 "metadata": {
  "kernelspec": {
   "display_name": "Python 3 (ipykernel)",
   "language": "python",
   "name": "python3"
  },
  "language_info": {
   "codemirror_mode": {
    "name": "ipython",
    "version": 3
   },
   "file_extension": ".py",
   "mimetype": "text/x-python",
   "name": "python",
   "nbconvert_exporter": "python",
   "pygments_lexer": "ipython3",
   "version": "3.10.7"
  }
 },
 "nbformat": 4,
 "nbformat_minor": 5
}
